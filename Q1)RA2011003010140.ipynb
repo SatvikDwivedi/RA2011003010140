{
  "nbformat": 4,
  "nbformat_minor": 0,
  "metadata": {
    "colab": {
      "provenance": []
    },
    "kernelspec": {
      "name": "python3",
      "display_name": "Python 3"
    },
    "language_info": {
      "name": "python"
    }
  },
  "cells": [
    {
      "cell_type": "code",
      "source": [
        "import requests as rs\n",
        "import pandas as pd\n",
        "import numpy as np\n",
        "import os"
      ],
      "metadata": {
        "id": "p6YoCpkVsVrh"
      },
      "execution_count": 1,
      "outputs": []
    },
    {
      "cell_type": "code",
      "source": [
        "data = {\n",
        "        \"companyName\": \"Train Central\",\n",
        "        \"ownerName\": \"Ram\",\n",
        "        \"rollNo\": \"1\",\n",
        "        \"ownerEmail\": \"ram@abc.edu\",\n",
        "        \"accessCode\": \"FKDLjg\"\n",
        "    }"
      ],
      "metadata": {
        "id": "UHX57aqwsV3Y"
      },
      "execution_count": 14,
      "outputs": []
    },
    {
      "cell_type": "code",
      "source": [
        "def make_post_request(data):\n",
        "    url = \"http://20.244.56.144/train/register\"\n",
        "    headers = {'Content-Type': 'application/json'}\n",
        "\n",
        "    try:\n",
        "        response = rs.post(url, json=data, headers=headers)\n",
        "        return response\n",
        "\n",
        "    except:\n",
        "        return \"Error has occurred\""
      ],
      "metadata": {
        "id": "NRgi6G4vsV8N"
      },
      "execution_count": 15,
      "outputs": []
    },
    {
      "cell_type": "code",
      "source": [
        "auth = make_post_request(data)"
      ],
      "metadata": {
        "id": "9PuY4pEusV_P"
      },
      "execution_count": 16,
      "outputs": []
    },
    {
      "cell_type": "code",
      "source": [
        "auth.json()"
      ],
      "metadata": {
        "colab": {
          "base_uri": "https://localhost:8080/"
        },
        "id": "SIR6OeszsWCW",
        "outputId": "a634d312-b1f7-41ff-e11f-71a814e73aec"
      },
      "execution_count": 17,
      "outputs": [
        {
          "output_type": "execute_result",
          "data": {
            "text/plain": [
              "{'message': 'entered rollNo already exists'}"
            ]
          },
          "metadata": {},
          "execution_count": 17
        }
      ]
    },
    {
      "cell_type": "code",
      "source": [
        "def make_auth_request(data):\n",
        "    url = \"http://20.244.56.144/train/auth\"\n",
        "    headers = {'Content-Type': 'application/json'}\n",
        "\n",
        "    try:\n",
        "        response = rs.post(url, json=data, headers=headers)\n",
        "        return response\n",
        "\n",
        "    except:\n",
        "        return \"Error has occurred\""
      ],
      "metadata": {
        "id": "nAuGdl8SsWEY"
      },
      "execution_count": 18,
      "outputs": []
    },
    {
      "cell_type": "code",
      "source": [
        "auth2 = make_auth_request(auth.json())"
      ],
      "metadata": {
        "id": "WkxRvCnpsWHQ"
      },
      "execution_count": 19,
      "outputs": []
    },
    {
      "cell_type": "code",
      "source": [
        "auth2.json()"
      ],
      "metadata": {
        "colab": {
          "base_uri": "https://localhost:8080/"
        },
        "id": "jevCsr9ssWKl",
        "outputId": "72151af5-1264-4c3b-cab8-53155003cce8"
      },
      "execution_count": 20,
      "outputs": [
        {
          "output_type": "execute_result",
          "data": {
            "text/plain": [
              "{'message': 'clientID, companyName, clientSecret, ownerName, ownerEmail & rollNo are mandatory fields'}"
            ]
          },
          "metadata": {},
          "execution_count": 20
        }
      ]
    },
    {
      "cell_type": "code",
      "source": [
        "def get_all_trains(bearer):\n",
        "    url = 'http://20.244.56.144/train/trains'\n",
        "    headers = {\n",
        "        'Content-Type': 'application/json',\n",
        "        'Authorization': f'Bearer {bearer}'\n",
        "\n",
        "    }\n",
        "\n",
        "    try:\n",
        "        response = rs.get(url, headers=headers)\n",
        "        return response\n",
        "    except :\n",
        "        return \"Error Occurred\""
      ],
      "metadata": {
        "id": "qQ-FGVBOsWM-"
      },
      "execution_count": 21,
      "outputs": []
    },
    {
      "cell_type": "code",
      "source": [
        "bearer = auth2.json()['eyJhbGci01]IUzI1NiIsInRSCCI6IkpXVC39.eyJleнAiOjE20DI2MjkyNjQsImNvbXBhbn10YW1lIjoiVHJhaW4gQ2VudHJhbCIsImNsaWVudE1E1joiYjQ2MTE4ZjAtZmJkzseevjE2LWEBYjEtNmF1NmFkNzEBYjI3Ine.v93QcxrZHNDTnTm8-6ttoTG14C656rhn3rIJDC8fy8']"
      ],
      "metadata": {
        "colab": {
          "base_uri": "https://localhost:8080/",
          "height": 265
        },
        "id": "fsIwZo5dsWPa",
        "outputId": "447f9013-0eb6-4462-dbd6-c8e3397225be"
      },
      "execution_count": 23,
      "outputs": [
        {
          "output_type": "error",
          "ename": "KeyError",
          "evalue": "ignored",
          "traceback": [
            "\u001b[0;31m---------------------------------------------------------------------------\u001b[0m",
            "\u001b[0;31mKeyError\u001b[0m                                  Traceback (most recent call last)",
            "\u001b[0;32m<ipython-input-23-d64deeadcb70>\u001b[0m in \u001b[0;36m<cell line: 1>\u001b[0;34m()\u001b[0m\n\u001b[0;32m----> 1\u001b[0;31m \u001b[0mbearer\u001b[0m \u001b[0;34m=\u001b[0m \u001b[0mauth2\u001b[0m\u001b[0;34m.\u001b[0m\u001b[0mjson\u001b[0m\u001b[0;34m(\u001b[0m\u001b[0;34m)\u001b[0m\u001b[0;34m[\u001b[0m\u001b[0;34m'eyJhbGci01]IUzI1NiIsInRSCCI6IkpXVC39.eyJleнAiOjE20DI2MjkyNjQsImNvbXBhbn10YW1lIjoiVHJhaW4gQ2VudHJhbCIsImNsaWVudE1E1joiYjQ2MTE4ZjAtZmJkzseevjE2LWEBYjEtNmF1NmFkNzEBYjI3Ine.v93QcxrZHNDTnTm8-6ttoTG14C656rhn3rIJDC8fy8'\u001b[0m\u001b[0;34m]\u001b[0m\u001b[0;34m\u001b[0m\u001b[0;34m\u001b[0m\u001b[0m\n\u001b[0m",
            "\u001b[0;31mKeyError\u001b[0m: 'eyJhbGci01]IUzI1NiIsInRSCCI6IkpXVC39.eyJleнAiOjE20DI2MjkyNjQsImNvbXBhbn10YW1lIjoiVHJhaW4gQ2VudHJhbCIsImNsaWVudE1E1joiYjQ2MTE4ZjAtZmJkzseevjE2LWEBYjEtNmF1NmFkNzEBYjI3Ine.v93QcxrZHNDTnTm8-6ttoTG14C656rhn3rIJDC8fy8'"
          ]
        }
      ]
    },
    {
      "cell_type": "code",
      "source": [
        "bearer"
      ],
      "metadata": {
        "colab": {
          "base_uri": "https://localhost:8080/",
          "height": 175
        },
        "id": "RMasAA1msWRz",
        "outputId": "200aeadf-575f-419d-b195-2aa06b14cf77"
      },
      "execution_count": 24,
      "outputs": [
        {
          "output_type": "error",
          "ename": "NameError",
          "evalue": "ignored",
          "traceback": [
            "\u001b[0;31m---------------------------------------------------------------------------\u001b[0m",
            "\u001b[0;31mNameError\u001b[0m                                 Traceback (most recent call last)",
            "\u001b[0;32m<ipython-input-24-697cf06a4055>\u001b[0m in \u001b[0;36m<cell line: 1>\u001b[0;34m()\u001b[0m\n\u001b[0;32m----> 1\u001b[0;31m \u001b[0mbearer\u001b[0m\u001b[0;34m\u001b[0m\u001b[0;34m\u001b[0m\u001b[0m\n\u001b[0m",
            "\u001b[0;31mNameError\u001b[0m: name 'bearer' is not defined"
          ]
        }
      ]
    },
    {
      "cell_type": "code",
      "source": [
        "alltrains = get_all_trains(bearer)"
      ],
      "metadata": {
        "colab": {
          "base_uri": "https://localhost:8080/",
          "height": 175
        },
        "id": "DXiz1ea2sWUi",
        "outputId": "3736de2a-3a3a-4daa-a006-a827ed671976"
      },
      "execution_count": 25,
      "outputs": [
        {
          "output_type": "error",
          "ename": "NameError",
          "evalue": "ignored",
          "traceback": [
            "\u001b[0;31m---------------------------------------------------------------------------\u001b[0m",
            "\u001b[0;31mNameError\u001b[0m                                 Traceback (most recent call last)",
            "\u001b[0;32m<ipython-input-25-5a3ffcbdcc76>\u001b[0m in \u001b[0;36m<cell line: 1>\u001b[0;34m()\u001b[0m\n\u001b[0;32m----> 1\u001b[0;31m \u001b[0malltrains\u001b[0m \u001b[0;34m=\u001b[0m \u001b[0mget_all_trains\u001b[0m\u001b[0;34m(\u001b[0m\u001b[0mbearer\u001b[0m\u001b[0;34m)\u001b[0m\u001b[0;34m\u001b[0m\u001b[0;34m\u001b[0m\u001b[0m\n\u001b[0m",
            "\u001b[0;31mNameError\u001b[0m: name 'bearer' is not defined"
          ]
        }
      ]
    },
    {
      "cell_type": "code",
      "source": [
        "alltrains = alltrains.json()\n"
      ],
      "metadata": {
        "colab": {
          "base_uri": "https://localhost:8080/",
          "height": 175
        },
        "id": "5_RsBg-BsWXB",
        "outputId": "871d1a15-ce44-41ca-ff2b-f4fcbf026d0d"
      },
      "execution_count": 26,
      "outputs": [
        {
          "output_type": "error",
          "ename": "NameError",
          "evalue": "ignored",
          "traceback": [
            "\u001b[0;31m---------------------------------------------------------------------------\u001b[0m",
            "\u001b[0;31mNameError\u001b[0m                                 Traceback (most recent call last)",
            "\u001b[0;32m<ipython-input-26-3295d3b50fe4>\u001b[0m in \u001b[0;36m<cell line: 1>\u001b[0;34m()\u001b[0m\n\u001b[0;32m----> 1\u001b[0;31m \u001b[0malltrains\u001b[0m \u001b[0;34m=\u001b[0m \u001b[0malltrains\u001b[0m\u001b[0;34m.\u001b[0m\u001b[0mjson\u001b[0m\u001b[0;34m(\u001b[0m\u001b[0;34m)\u001b[0m\u001b[0;34m\u001b[0m\u001b[0;34m\u001b[0m\u001b[0m\n\u001b[0m",
            "\u001b[0;31mNameError\u001b[0m: name 'alltrains' is not defined"
          ]
        }
      ]
    },
    {
      "cell_type": "code",
      "source": [
        "def get_single_trains(bearer, number):\n",
        "    url = f'http://20.244.56.144/train/trains/{number}'\n",
        "    headers = {\n",
        "        'Content-Type': 'application/json',\n",
        "        'Authorization': f'Bearer {bearer}'\n",
        "\n",
        "    }\n",
        "\n",
        "    try:\n",
        "        response = rs.get(url, headers=headers)\n",
        "        return response\n",
        "    except :\n",
        "        return \"Error Occurred\""
      ],
      "metadata": {
        "id": "fiNlKYz1sWZ1"
      },
      "execution_count": 27,
      "outputs": []
    },
    {
      "cell_type": "code",
      "source": [
        "alltrains"
      ],
      "metadata": {
        "colab": {
          "base_uri": "https://localhost:8080/",
          "height": 175
        },
        "id": "dHYM3usTufZB",
        "outputId": "492f784d-0524-4046-8536-0466a4d58e25"
      },
      "execution_count": 28,
      "outputs": [
        {
          "output_type": "error",
          "ename": "NameError",
          "evalue": "ignored",
          "traceback": [
            "\u001b[0;31m---------------------------------------------------------------------------\u001b[0m",
            "\u001b[0;31mNameError\u001b[0m                                 Traceback (most recent call last)",
            "\u001b[0;32m<ipython-input-28-5703279a9e4b>\u001b[0m in \u001b[0;36m<cell line: 1>\u001b[0;34m()\u001b[0m\n\u001b[0;32m----> 1\u001b[0;31m \u001b[0malltrains\u001b[0m\u001b[0;34m\u001b[0m\u001b[0;34m\u001b[0m\u001b[0m\n\u001b[0m",
            "\u001b[0;31mNameError\u001b[0m: name 'alltrains' is not defined"
          ]
        }
      ]
    },
    {
      "cell_type": "code",
      "source": [
        "def display_trains(alltrains):\n",
        "    try:\n",
        "        trains = pd.DataFrame.from_dict(alltrains)\n",
        "\n",
        "        trains['departureTime'] = pd.to_datetime(trains['departureTime'])\n",
        "        current_time = pd.Timestamp.now()\n",
        "        twelve_hours_later = current_time + pd.Timedelta(hours=12)\n",
        "        filtered_trains = trains[(trains['departureTime'] > current_time) & (trains['departureTime'] <= twelve_hours_later)]\n",
        "        sorted_trains = filtered_trains.sort_values(by=['prices.AC', 'tickets', 'departureTime'], ascending=[True, False, False])\n",
        "\n",
        "    except Exception as e:\n",
        "        print(f\"An error occurred while displaying trains: {e}\")\n",
        "\n",
        "if isinstance(alltrains, rs.Response) and alltrains.status_code == 200:\n",
        "    all_trains_data = alltrains.json()\n",
        "    display_trains(all_trains_data)"
      ],
      "metadata": {
        "colab": {
          "base_uri": "https://localhost:8080/",
          "height": 245
        },
        "id": "WtuA9aIRuflc",
        "outputId": "60f88424-1437-4ed0-b65c-fb2dafade6ab"
      },
      "execution_count": 29,
      "outputs": [
        {
          "output_type": "error",
          "ename": "NameError",
          "evalue": "ignored",
          "traceback": [
            "\u001b[0;31m---------------------------------------------------------------------------\u001b[0m",
            "\u001b[0;31mNameError\u001b[0m                                 Traceback (most recent call last)",
            "\u001b[0;32m<ipython-input-29-3182927087d7>\u001b[0m in \u001b[0;36m<cell line: 14>\u001b[0;34m()\u001b[0m\n\u001b[1;32m     12\u001b[0m         \u001b[0mprint\u001b[0m\u001b[0;34m(\u001b[0m\u001b[0;34mf\"An error occurred while displaying trains: {e}\"\u001b[0m\u001b[0;34m)\u001b[0m\u001b[0;34m\u001b[0m\u001b[0;34m\u001b[0m\u001b[0m\n\u001b[1;32m     13\u001b[0m \u001b[0;34m\u001b[0m\u001b[0m\n\u001b[0;32m---> 14\u001b[0;31m \u001b[0;32mif\u001b[0m \u001b[0misinstance\u001b[0m\u001b[0;34m(\u001b[0m\u001b[0malltrains\u001b[0m\u001b[0;34m,\u001b[0m \u001b[0mrs\u001b[0m\u001b[0;34m.\u001b[0m\u001b[0mResponse\u001b[0m\u001b[0;34m)\u001b[0m \u001b[0;32mand\u001b[0m \u001b[0malltrains\u001b[0m\u001b[0;34m.\u001b[0m\u001b[0mstatus_code\u001b[0m \u001b[0;34m==\u001b[0m \u001b[0;36m200\u001b[0m\u001b[0;34m:\u001b[0m\u001b[0;34m\u001b[0m\u001b[0;34m\u001b[0m\u001b[0m\n\u001b[0m\u001b[1;32m     15\u001b[0m     \u001b[0mall_trains_data\u001b[0m \u001b[0;34m=\u001b[0m \u001b[0malltrains\u001b[0m\u001b[0;34m.\u001b[0m\u001b[0mjson\u001b[0m\u001b[0;34m(\u001b[0m\u001b[0;34m)\u001b[0m\u001b[0;34m\u001b[0m\u001b[0;34m\u001b[0m\u001b[0m\n\u001b[1;32m     16\u001b[0m     \u001b[0mdisplay_trains\u001b[0m\u001b[0;34m(\u001b[0m\u001b[0mall_trains_data\u001b[0m\u001b[0;34m)\u001b[0m\u001b[0;34m\u001b[0m\u001b[0;34m\u001b[0m\u001b[0m\n",
            "\u001b[0;31mNameError\u001b[0m: name 'alltrains' is not defined"
          ]
        }
      ]
    },
    {
      "cell_type": "code",
      "source": [],
      "metadata": {
        "id": "Se168bCvufo1"
      },
      "execution_count": null,
      "outputs": []
    },
    {
      "cell_type": "code",
      "source": [],
      "metadata": {
        "id": "tXfGc9Qaufrk"
      },
      "execution_count": null,
      "outputs": []
    },
    {
      "cell_type": "code",
      "source": [],
      "metadata": {
        "id": "m0SaO6F6ufy7"
      },
      "execution_count": null,
      "outputs": []
    }
  ]
}